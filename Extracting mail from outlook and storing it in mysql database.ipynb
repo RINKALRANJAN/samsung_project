{
 "cells": [
  {
   "cell_type": "code",
   "execution_count": 17,
   "id": "f1e13407",
   "metadata": {},
   "outputs": [],
   "source": [
    "import imaplib\n",
    "import email\n",
    "import mysql.connector\n",
    "import time"
   ]
  },
  {
   "cell_type": "code",
   "execution_count": null,
   "id": "4a86444b",
   "metadata": {},
   "outputs": [],
   "source": []
  },
  {
   "cell_type": "code",
   "execution_count": 18,
   "id": "5a74d7a4",
   "metadata": {},
   "outputs": [],
   "source": [
    "username = 'rinkalranjan@outlook.com'\n",
    "password = 'R@12rinkal'\n"
   ]
  },
  {
   "cell_type": "code",
   "execution_count": 20,
   "id": "8f5a9a18",
   "metadata": {},
   "outputs": [
    {
     "data": {
      "text/plain": [
       "('OK', [b'2'])"
      ]
     },
     "execution_count": 20,
     "metadata": {},
     "output_type": "execute_result"
    }
   ],
   "source": [
    "# establish connection to Outlook mail server\n",
    "imap_server = 'imap-mail.outlook.com'\n",
    "mail = imaplib.IMAP4_SSL(imap_server)\n",
    "mail.login(username, password)\n",
    "mail.select(\"inbox\")"
   ]
  },
  {
   "cell_type": "code",
   "execution_count": 21,
   "id": "a77142c3",
   "metadata": {},
   "outputs": [],
   "source": [
    "# search for all emails in inbox\n",
    "result, data = mail.search(None, \"ALL\")"
   ]
  },
  {
   "cell_type": "code",
   "execution_count": 22,
   "id": "6ff6edc0",
   "metadata": {},
   "outputs": [],
   "source": [
    "# connect to MySQL database\n",
    "mydb = mysql.connector.connect(\n",
    "  host=\"localhost\",\n",
    "  user=\"root\",\n",
    "  password=\"rinkal\",\n",
    "  database=\"samsung\"\n",
    ")\n",
    "mycursor = mydb.cursor()"
   ]
  },
  {
   "cell_type": "code",
   "execution_count": 23,
   "id": "83b495b1",
   "metadata": {},
   "outputs": [
    {
     "data": {
      "text/plain": [
       "('BYE', [b'Microsoft Exchange Server IMAP4 server signing off.'])"
      ]
     },
     "execution_count": 23,
     "metadata": {},
     "output_type": "execute_result"
    }
   ],
   "source": [
    "# loop through emails and insert into database\n",
    "for num in data[0].split():\n",
    "    typ, data = mail.fetch(num, \"(RFC822)\")\n",
    "    msg = email.message_from_bytes(data[0][1])\n",
    "    subject = msg['subject']\n",
    "    sender = msg['from']\n",
    "    body = \"\"\n",
    "    if msg.is_multipart():\n",
    "        for part in msg.walk():\n",
    "            content_type = part.get_content_type()\n",
    "            content_disposition = str(part.get(\"Content-Disposition\"))\n",
    "            try:\n",
    "                body = part.get_payload(decode=True).decode()\n",
    "            except:\n",
    "                pass\n",
    "    else:\n",
    "        content_type = msg.get_content_type()\n",
    "        body = msg.get_payload(decode=True).decode()\n",
    "         # insert email data into MySQL database\n",
    "    sql = \"INSERT INTO emails (subject, sender, body) VALUES (%s, %s, %s)\"\n",
    "    val = (subject, sender, body)\n",
    "    mycursor.execute(sql, val)\n",
    "    mydb.commit()\n",
    "\n",
    "mail.close()\n",
    "mail.logout()"
   ]
  },
  {
   "cell_type": "code",
   "execution_count": null,
   "id": "f591dbe3",
   "metadata": {},
   "outputs": [],
   "source": []
  },
  {
   "cell_type": "code",
   "execution_count": null,
   "id": "804cf1ba",
   "metadata": {},
   "outputs": [],
   "source": []
  }
 ],
 "metadata": {
  "kernelspec": {
   "display_name": "Python 3 (ipykernel)",
   "language": "python",
   "name": "python3"
  },
  "language_info": {
   "codemirror_mode": {
    "name": "ipython",
    "version": 3
   },
   "file_extension": ".py",
   "mimetype": "text/x-python",
   "name": "python",
   "nbconvert_exporter": "python",
   "pygments_lexer": "ipython3",
   "version": "3.9.7"
  }
 },
 "nbformat": 4,
 "nbformat_minor": 5
}
